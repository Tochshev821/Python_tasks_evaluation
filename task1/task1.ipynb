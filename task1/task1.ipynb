{
 "cells": [
  {
   "cell_type": "markdown",
   "metadata": {},
   "source": [
    "В этом задании вы будете работать с [данными](https://www.kaggle.com/c/two-sigma-connect-rental-listing-inquiries/data) соревнования Kaggle \"Two Sigma Connect: Rental Listing Inquiries\". "
   ]
  },
  {
   "cell_type": "markdown",
   "metadata": {},
   "source": [
    "<font color='red'>Вопрос 1.</font> При каком значении lmbda, выражение np.log(x) == scipy.stats.boxcox(x, lmbda=lmbda) будет истинным?\n",
    "- 1\n",
    "- 0\n",
    "- $\\frac{1}{x}$\n",
    "- $1 + x$"
   ]
  },
  {
   "cell_type": "code",
   "execution_count": 1,
   "metadata": {},
   "outputs": [],
   "source": [
    "# ОТВЕТ 0 так как \n",
    "# import numpy as np\n",
    "# from scipy import stats\n",
    "# from scipy import stats\n",
    "# import matplotlib.pyplot as plt\n",
    "# #x=[4]\n",
    "# x = stats.loggamma.rvs(5, size=500) + 5\n",
    "# a= np.log(x)\n",
    "# print(a)\n",
    "# b = stats.boxcox(x,lmbda=0)\n",
    "# print(b)\n",
    "# if a.all() ==b.all():\n",
    "#     print(\"True\")\n",
    "# else:\n",
    "#     print(\"False\")"
   ]
  },
  {
   "cell_type": "markdown",
   "metadata": {},
   "source": [
    "<font color='red'>Вопрос 2.</font> Переменная ``created`` является признаком, содержащим ``datetime``, это объект класса ``pandas.tslib.Timestamp``. Какой способ извлечения признаков будет наименее полезным?\n",
    "- created.weekday() * 24 + created.hour\n",
    "- str(created) c последующим one hot encoding\n",
    "- created.weekday()\n",
    "- created.hour"
   ]
  },
  {
   "cell_type": "markdown",
   "metadata": {},
   "source": [
    "<font color='red'>Вопрос 3. </font> Какую информацию нельзя извлечь из User-Agent?\n",
    "- Версия операционной системы\n",
    "- Разрешение экрана пользователя\n",
    "- Платформу, на базе которой построен браузер\n",
    "- Принадлежит ли запрос роботу-индексатору Яндекса"
   ]
  },
  {
   "cell_type": "markdown",
   "metadata": {},
   "source": [
    "<font color='red'>Вопрос 4. </font> Мы решаем задачу классификации: есть пары фотографий, нужно определить, являются ли они фотографиями одного и того же объекта. Какой признак будет наиболее релевантен? \n",
    "- Расстояние Левенштейна между названиями моделей фотоаппаратов, данные о модели получены из EXIF\n",
    "- Евклидово расстояние между векторами, полученными из предобученной сети ResNet без полносвязных слоев\n",
    "- Разница (в днях) между датами съемки фотографий, даты съемки получены из EXIF\n",
    "- Разность средней яркости во всех (RGB) каналах обоих изображений"
   ]
  },
  {
   "cell_type": "code",
   "execution_count": 3,
   "metadata": {},
   "outputs": [],
   "source": [
    "#Скорее всего Разность средней яркости во всех (RGB) каналах обоих изображений"
   ]
  },
  {
   "cell_type": "markdown",
   "metadata": {},
   "source": [
    "<font color='red'>Вопрос 5.</font> Для какой из задач отбор признаков (feature selection) будет бесполезен?\n",
    "- Ускорение модели на этапе обучения\n",
    "- Ускорение модели на этапе предсказания\n",
    "- Борьба со слишком большими значениями признаков, ведущими к переполнению\n",
    "- Повышение устойчивости модели"
   ]
  },
  {
   "cell_type": "code",
   "execution_count": 4,
   "metadata": {
    "tags": []
   },
   "outputs": [],
   "source": [
    "import pandas as pd"
   ]
  },
  {
   "cell_type": "markdown",
   "metadata": {},
   "source": [
    "Поменяйте на свой путь к данным ``train.json``, этот файл вы получите после разархивации скачанного с Kaggle ``train.json.zip``."
   ]
  },
  {
   "cell_type": "code",
   "execution_count": 5,
   "metadata": {
    "tags": []
   },
   "outputs": [],
   "source": [
    "data = pd.read_json('train.json')"
   ]
  },
  {
   "cell_type": "code",
   "execution_count": 6,
   "metadata": {},
   "outputs": [
    {
     "data": {
      "text/html": [
       "<div>\n",
       "<style scoped>\n",
       "    .dataframe tbody tr th:only-of-type {\n",
       "        vertical-align: middle;\n",
       "    }\n",
       "\n",
       "    .dataframe tbody tr th {\n",
       "        vertical-align: top;\n",
       "    }\n",
       "\n",
       "    .dataframe thead th {\n",
       "        text-align: right;\n",
       "    }\n",
       "</style>\n",
       "<table border=\"1\" class=\"dataframe\">\n",
       "  <thead>\n",
       "    <tr style=\"text-align: right;\">\n",
       "      <th></th>\n",
       "      <th>bathrooms</th>\n",
       "      <th>bedrooms</th>\n",
       "      <th>building_id</th>\n",
       "      <th>created</th>\n",
       "      <th>description</th>\n",
       "      <th>display_address</th>\n",
       "      <th>features</th>\n",
       "      <th>latitude</th>\n",
       "      <th>listing_id</th>\n",
       "      <th>longitude</th>\n",
       "      <th>manager_id</th>\n",
       "      <th>photos</th>\n",
       "      <th>price</th>\n",
       "      <th>street_address</th>\n",
       "      <th>interest_level</th>\n",
       "    </tr>\n",
       "  </thead>\n",
       "  <tbody>\n",
       "    <tr>\n",
       "      <th>4</th>\n",
       "      <td>1.0</td>\n",
       "      <td>1</td>\n",
       "      <td>8579a0b0d54db803821a35a4a615e97a</td>\n",
       "      <td>2016-06-16 05:55:27</td>\n",
       "      <td>Spacious 1 Bedroom 1 Bathroom in Williamsburg!...</td>\n",
       "      <td>145 Borinquen Place</td>\n",
       "      <td>[Dining Room, Pre-War, Laundry in Building, Di...</td>\n",
       "      <td>40.7108</td>\n",
       "      <td>7170325</td>\n",
       "      <td>-73.9539</td>\n",
       "      <td>a10db4590843d78c784171a107bdacb4</td>\n",
       "      <td>[https://photos.renthop.com/2/7170325_3bb5ac84...</td>\n",
       "      <td>2400</td>\n",
       "      <td>145 Borinquen Place</td>\n",
       "      <td>medium</td>\n",
       "    </tr>\n",
       "    <tr>\n",
       "      <th>6</th>\n",
       "      <td>1.0</td>\n",
       "      <td>2</td>\n",
       "      <td>b8e75fc949a6cd8225b455648a951712</td>\n",
       "      <td>2016-06-01 05:44:33</td>\n",
       "      <td>BRAND NEW GUT RENOVATED TRUE 2 BEDROOMFind you...</td>\n",
       "      <td>East 44th</td>\n",
       "      <td>[Doorman, Elevator, Laundry in Building, Dishw...</td>\n",
       "      <td>40.7513</td>\n",
       "      <td>7092344</td>\n",
       "      <td>-73.9722</td>\n",
       "      <td>955db33477af4f40004820b4aed804a0</td>\n",
       "      <td>[https://photos.renthop.com/2/7092344_7663c19a...</td>\n",
       "      <td>3800</td>\n",
       "      <td>230 East 44th</td>\n",
       "      <td>low</td>\n",
       "    </tr>\n",
       "    <tr>\n",
       "      <th>9</th>\n",
       "      <td>1.0</td>\n",
       "      <td>2</td>\n",
       "      <td>cd759a988b8f23924b5a2058d5ab2b49</td>\n",
       "      <td>2016-06-14 15:19:59</td>\n",
       "      <td>**FLEX 2 BEDROOM WITH FULL PRESSURIZED WALL**L...</td>\n",
       "      <td>East 56th Street</td>\n",
       "      <td>[Doorman, Elevator, Laundry in Building, Laund...</td>\n",
       "      <td>40.7575</td>\n",
       "      <td>7158677</td>\n",
       "      <td>-73.9625</td>\n",
       "      <td>c8b10a317b766204f08e613cef4ce7a0</td>\n",
       "      <td>[https://photos.renthop.com/2/7158677_c897a134...</td>\n",
       "      <td>3495</td>\n",
       "      <td>405 East 56th Street</td>\n",
       "      <td>medium</td>\n",
       "    </tr>\n",
       "    <tr>\n",
       "      <th>10</th>\n",
       "      <td>1.5</td>\n",
       "      <td>3</td>\n",
       "      <td>53a5b119ba8f7b61d4e010512e0dfc85</td>\n",
       "      <td>2016-06-24 07:54:24</td>\n",
       "      <td>A Brand New 3 Bedroom 1.5 bath ApartmentEnjoy ...</td>\n",
       "      <td>Metropolitan Avenue</td>\n",
       "      <td>[]</td>\n",
       "      <td>40.7145</td>\n",
       "      <td>7211212</td>\n",
       "      <td>-73.9425</td>\n",
       "      <td>5ba989232d0489da1b5f2c45f6688adc</td>\n",
       "      <td>[https://photos.renthop.com/2/7211212_1ed4542e...</td>\n",
       "      <td>3000</td>\n",
       "      <td>792 Metropolitan Avenue</td>\n",
       "      <td>medium</td>\n",
       "    </tr>\n",
       "    <tr>\n",
       "      <th>15</th>\n",
       "      <td>1.0</td>\n",
       "      <td>0</td>\n",
       "      <td>bfb9405149bfff42a92980b594c28234</td>\n",
       "      <td>2016-06-28 03:50:23</td>\n",
       "      <td>Over-sized Studio w abundant closets. Availabl...</td>\n",
       "      <td>East 34th Street</td>\n",
       "      <td>[Doorman, Elevator, Fitness Center, Laundry in...</td>\n",
       "      <td>40.7439</td>\n",
       "      <td>7225292</td>\n",
       "      <td>-73.9743</td>\n",
       "      <td>2c3b41f588fbb5234d8a1e885a436cfa</td>\n",
       "      <td>[https://photos.renthop.com/2/7225292_901f1984...</td>\n",
       "      <td>2795</td>\n",
       "      <td>340 East 34th Street</td>\n",
       "      <td>low</td>\n",
       "    </tr>\n",
       "  </tbody>\n",
       "</table>\n",
       "</div>"
      ],
      "text/plain": [
       "    bathrooms  bedrooms                       building_id  \\\n",
       "4         1.0         1  8579a0b0d54db803821a35a4a615e97a   \n",
       "6         1.0         2  b8e75fc949a6cd8225b455648a951712   \n",
       "9         1.0         2  cd759a988b8f23924b5a2058d5ab2b49   \n",
       "10        1.5         3  53a5b119ba8f7b61d4e010512e0dfc85   \n",
       "15        1.0         0  bfb9405149bfff42a92980b594c28234   \n",
       "\n",
       "                created                                        description  \\\n",
       "4   2016-06-16 05:55:27  Spacious 1 Bedroom 1 Bathroom in Williamsburg!...   \n",
       "6   2016-06-01 05:44:33  BRAND NEW GUT RENOVATED TRUE 2 BEDROOMFind you...   \n",
       "9   2016-06-14 15:19:59  **FLEX 2 BEDROOM WITH FULL PRESSURIZED WALL**L...   \n",
       "10  2016-06-24 07:54:24  A Brand New 3 Bedroom 1.5 bath ApartmentEnjoy ...   \n",
       "15  2016-06-28 03:50:23  Over-sized Studio w abundant closets. Availabl...   \n",
       "\n",
       "        display_address                                           features  \\\n",
       "4   145 Borinquen Place  [Dining Room, Pre-War, Laundry in Building, Di...   \n",
       "6             East 44th  [Doorman, Elevator, Laundry in Building, Dishw...   \n",
       "9      East 56th Street  [Doorman, Elevator, Laundry in Building, Laund...   \n",
       "10  Metropolitan Avenue                                                 []   \n",
       "15     East 34th Street  [Doorman, Elevator, Fitness Center, Laundry in...   \n",
       "\n",
       "    latitude  listing_id  longitude                        manager_id  \\\n",
       "4    40.7108     7170325   -73.9539  a10db4590843d78c784171a107bdacb4   \n",
       "6    40.7513     7092344   -73.9722  955db33477af4f40004820b4aed804a0   \n",
       "9    40.7575     7158677   -73.9625  c8b10a317b766204f08e613cef4ce7a0   \n",
       "10   40.7145     7211212   -73.9425  5ba989232d0489da1b5f2c45f6688adc   \n",
       "15   40.7439     7225292   -73.9743  2c3b41f588fbb5234d8a1e885a436cfa   \n",
       "\n",
       "                                               photos  price  \\\n",
       "4   [https://photos.renthop.com/2/7170325_3bb5ac84...   2400   \n",
       "6   [https://photos.renthop.com/2/7092344_7663c19a...   3800   \n",
       "9   [https://photos.renthop.com/2/7158677_c897a134...   3495   \n",
       "10  [https://photos.renthop.com/2/7211212_1ed4542e...   3000   \n",
       "15  [https://photos.renthop.com/2/7225292_901f1984...   2795   \n",
       "\n",
       "             street_address interest_level  \n",
       "4       145 Borinquen Place         medium  \n",
       "6             230 East 44th            low  \n",
       "9      405 East 56th Street         medium  \n",
       "10  792 Metropolitan Avenue         medium  \n",
       "15     340 East 34th Street            low  "
      ]
     },
     "execution_count": 6,
     "metadata": {},
     "output_type": "execute_result"
    }
   ],
   "source": [
    "data.head()"
   ]
  },
  {
   "cell_type": "code",
   "execution_count": 7,
   "metadata": {},
   "outputs": [
    {
     "data": {
      "text/plain": [
       "(49352, 15)"
      ]
     },
     "execution_count": 7,
     "metadata": {},
     "output_type": "execute_result"
    }
   ],
   "source": [
    "data.shape"
   ]
  },
  {
   "cell_type": "code",
   "execution_count": 8,
   "metadata": {},
   "outputs": [
    {
     "name": "stdout",
     "output_type": "stream",
     "text": [
      "<class 'pandas.core.frame.DataFrame'>\n",
      "Int64Index: 49352 entries, 4 to 124009\n",
      "Data columns (total 15 columns):\n",
      " #   Column           Non-Null Count  Dtype  \n",
      "---  ------           --------------  -----  \n",
      " 0   bathrooms        49352 non-null  float64\n",
      " 1   bedrooms         49352 non-null  int64  \n",
      " 2   building_id      49352 non-null  object \n",
      " 3   created          49352 non-null  object \n",
      " 4   description      49352 non-null  object \n",
      " 5   display_address  49352 non-null  object \n",
      " 6   features         49352 non-null  object \n",
      " 7   latitude         49352 non-null  float64\n",
      " 8   listing_id       49352 non-null  int64  \n",
      " 9   longitude        49352 non-null  float64\n",
      " 10  manager_id       49352 non-null  object \n",
      " 11  photos           49352 non-null  object \n",
      " 12  price            49352 non-null  int64  \n",
      " 13  street_address   49352 non-null  object \n",
      " 14  interest_level   49352 non-null  object \n",
      "dtypes: float64(3), int64(3), object(9)\n",
      "memory usage: 6.0+ MB\n"
     ]
    }
   ],
   "source": [
    "data.info()"
   ]
  },
  {
   "cell_type": "markdown",
   "metadata": {},
   "source": [
    "<font color='red'>Вопрос 6.</font> В каком из районов находится точка с координатами (40.825142, -73.909171)?"
   ]
  },
  {
   "cell_type": "code",
   "execution_count": 9,
   "metadata": {
    "tags": []
   },
   "outputs": [
    {
     "data": {
      "text/html": [
       "<div>\n",
       "<style scoped>\n",
       "    .dataframe tbody tr th:only-of-type {\n",
       "        vertical-align: middle;\n",
       "    }\n",
       "\n",
       "    .dataframe tbody tr th {\n",
       "        vertical-align: top;\n",
       "    }\n",
       "\n",
       "    .dataframe thead th {\n",
       "        text-align: right;\n",
       "    }\n",
       "</style>\n",
       "<table border=\"1\" class=\"dataframe\">\n",
       "  <thead>\n",
       "    <tr style=\"text-align: right;\">\n",
       "      <th></th>\n",
       "      <th>bathrooms</th>\n",
       "      <th>bedrooms</th>\n",
       "      <th>building_id</th>\n",
       "      <th>created</th>\n",
       "      <th>description</th>\n",
       "      <th>display_address</th>\n",
       "      <th>features</th>\n",
       "      <th>latitude</th>\n",
       "      <th>listing_id</th>\n",
       "      <th>longitude</th>\n",
       "      <th>manager_id</th>\n",
       "      <th>photos</th>\n",
       "      <th>price</th>\n",
       "      <th>street_address</th>\n",
       "      <th>interest_level</th>\n",
       "    </tr>\n",
       "  </thead>\n",
       "  <tbody>\n",
       "    <tr>\n",
       "      <th>74557</th>\n",
       "      <td>1.0</td>\n",
       "      <td>1</td>\n",
       "      <td>0</td>\n",
       "      <td>2016-05-08 01:15:07</td>\n",
       "      <td>****Low Cost**** Fully Renovated*****Great Loc...</td>\n",
       "      <td>Thayer Street</td>\n",
       "      <td>[Pre-War]</td>\n",
       "      <td>40.8643</td>\n",
       "      <td>6981395</td>\n",
       "      <td>-73.928</td>\n",
       "      <td>379e9c250a70372e5cb50b3edce15127</td>\n",
       "      <td>[https://photos.renthop.com/2/6981395_745afa31...</td>\n",
       "      <td>1695</td>\n",
       "      <td>98 Thayer Street</td>\n",
       "      <td>low</td>\n",
       "    </tr>\n",
       "    <tr>\n",
       "      <th>100053</th>\n",
       "      <td>1.0</td>\n",
       "      <td>1</td>\n",
       "      <td>0</td>\n",
       "      <td>2016-04-19 03:36:28</td>\n",
       "      <td>*Location: Thayer St. &amp;amp; Broadway, Manhatta...</td>\n",
       "      <td>Thayer St</td>\n",
       "      <td>[prewar, LOWRISE, EAT IN KITCHEN, SIMPLEX, HAR...</td>\n",
       "      <td>40.8643</td>\n",
       "      <td>6894111</td>\n",
       "      <td>-73.928</td>\n",
       "      <td>ab15d581a04ed87b6f25d5aff8ddde30</td>\n",
       "      <td>[https://photos.renthop.com/2/6894111_571fa57d...</td>\n",
       "      <td>1695</td>\n",
       "      <td>98 Thayer St</td>\n",
       "      <td>low</td>\n",
       "    </tr>\n",
       "    <tr>\n",
       "      <th>123656</th>\n",
       "      <td>1.0</td>\n",
       "      <td>1</td>\n",
       "      <td>0</td>\n",
       "      <td>2016-04-20 03:52:32</td>\n",
       "      <td>LOCATION: THAYER AND BROADWAYLiving in Inwood ...</td>\n",
       "      <td>Thayer St</td>\n",
       "      <td>[prewar, LOWRISE, SIMPLEX, HARDWOOD]</td>\n",
       "      <td>40.8643</td>\n",
       "      <td>6900110</td>\n",
       "      <td>-73.928</td>\n",
       "      <td>2d36cb7738bcb9b089c8d9b9fff44674</td>\n",
       "      <td>[https://photos.renthop.com/2/6900110_68811910...</td>\n",
       "      <td>1695</td>\n",
       "      <td>98 Thayer St</td>\n",
       "      <td>low</td>\n",
       "    </tr>\n",
       "  </tbody>\n",
       "</table>\n",
       "</div>"
      ],
      "text/plain": [
       "        bathrooms  bedrooms building_id              created  \\\n",
       "74557         1.0         1           0  2016-05-08 01:15:07   \n",
       "100053        1.0         1           0  2016-04-19 03:36:28   \n",
       "123656        1.0         1           0  2016-04-20 03:52:32   \n",
       "\n",
       "                                              description display_address  \\\n",
       "74557   ****Low Cost**** Fully Renovated*****Great Loc...   Thayer Street   \n",
       "100053  *Location: Thayer St. &amp; Broadway, Manhatta...       Thayer St   \n",
       "123656  LOCATION: THAYER AND BROADWAYLiving in Inwood ...       Thayer St   \n",
       "\n",
       "                                                 features  latitude  \\\n",
       "74557                                           [Pre-War]   40.8643   \n",
       "100053  [prewar, LOWRISE, EAT IN KITCHEN, SIMPLEX, HAR...   40.8643   \n",
       "123656               [prewar, LOWRISE, SIMPLEX, HARDWOOD]   40.8643   \n",
       "\n",
       "        listing_id  longitude                        manager_id  \\\n",
       "74557      6981395    -73.928  379e9c250a70372e5cb50b3edce15127   \n",
       "100053     6894111    -73.928  ab15d581a04ed87b6f25d5aff8ddde30   \n",
       "123656     6900110    -73.928  2d36cb7738bcb9b089c8d9b9fff44674   \n",
       "\n",
       "                                                   photos  price  \\\n",
       "74557   [https://photos.renthop.com/2/6981395_745afa31...   1695   \n",
       "100053  [https://photos.renthop.com/2/6894111_571fa57d...   1695   \n",
       "123656  [https://photos.renthop.com/2/6900110_68811910...   1695   \n",
       "\n",
       "          street_address interest_level  \n",
       "74557   98 Thayer Street            low  \n",
       "100053      98 Thayer St            low  \n",
       "123656      98 Thayer St            low  "
      ]
     },
     "execution_count": 9,
     "metadata": {},
     "output_type": "execute_result"
    }
   ],
   "source": [
    "''' ВАШ КОД ЗДЕСЬ ''' # Что то\n",
    "\n",
    "#a = data.loc[(data.latitude >= 40.825142 ) & (data.longitude <= -73.909171)]\n",
    "#a.tail(10)\n",
    "data.loc[data.latitude.isin([40.825142, 40.8643]) & (data.longitude <= -73.9280)]"
   ]
  },
  {
   "cell_type": "markdown",
   "metadata": {},
   "source": [
    "Обучите ``CountVectorizer`` из ``scikit-learn``, используя колонку ``Description`` из датасета \"Two Sigma Connect: Rental Listing Inquires\" таким образом, чтобы в словаре было не более 1000 слов, не меняя прочие параметры по умолчанию. \n",
    "<font color='red'>Вопрос 7.</font> Какое слово соответствует индексу 165 в словаре обученного ``CountVectorizer``?"
   ]
  },
  {
   "cell_type": "code",
   "execution_count": 10,
   "metadata": {
    "tags": []
   },
   "outputs": [
    {
     "name": "stdout",
     "output_type": "stream",
     "text": [
      "[['000' '10' '100' ... 'you' 'your' 'yourself']\n",
      " ['1704' '1230' '777' ... '23358' '17234' '443']]\n"
     ]
    }
   ],
   "source": [
    "''' ВАШ КОД ЗДЕСЬ '''#НУЖНО ДОДЕЛАТЬ\n",
    "from sklearn.feature_extraction.text import CountVectorizer\n",
    "import numpy as np\n",
    " \n",
    "# инициализируем\n",
    "vectorizer = CountVectorizer(max_features=1000)\n",
    "X = vectorizer.fit_transform(data.description)\n",
    "#X.toarray()\n",
    "#print(X)\n",
    "matrix_freq = np.asarray(X.sum(axis=0)).ravel()\n",
    "final_matrix = np.array([np.array(vectorizer.get_feature_names()), matrix_freq])\n",
    "print(final_matrix)\n",
    "#print(vectorizer.vocabulary_)"
   ]
  },
  {
   "cell_type": "markdown",
   "metadata": {},
   "source": [
    "Используя датасет \"Two Sigma Connect: Rental Listing\", обработанный при помощи скрипта(/task1/demo.py), отмасштабируйте его при помощи ``MinMaxScaler`` и удалите признаки с дисперсией меньше 0.1. \n",
    "<font color='red'>Вопрос 8.</font> Сколько признаков осталось в датасете?"
   ]
  },
  {
   "cell_type": "code",
   "execution_count": 39,
   "metadata": {
    "tags": []
   },
   "outputs": [
    {
     "name": "stdout",
     "output_type": "stream",
     "text": [
      "  (0, 69)\t0.002976190476190476\n",
      "  (0, 73)\t0.002976190476190476\n",
      "  (0, 115)\t0.005952380952380952\n",
      "  (0, 122)\t0.002976190476190476\n",
      "  (0, 126)\t0.002976190476190476\n",
      "  (0, 152)\t0.05357142857142857\n",
      "  (0, 207)\t0.002976190476190476\n",
      "  (0, 214)\t0.002976190476190476\n",
      "  (0, 229)\t0.002976190476190476\n",
      "  (0, 279)\t0.002976190476190476\n",
      "  (0, 305)\t0.002976190476190476\n",
      "  (0, 314)\t0.002976190476190476\n",
      "  (0, 355)\t0.002976190476190476\n",
      "  (0, 381)\t0.002976190476190476\n",
      "  (0, 424)\t0.002976190476190476\n",
      "  (0, 436)\t0.002976190476190476\n",
      "  (0, 442)\t0.002976190476190476\n",
      "  (0, 458)\t0.002976190476190476\n",
      "  (0, 475)\t0.008928571428571428\n",
      "  (0, 477)\t0.002976190476190476\n",
      "  (0, 484)\t0.002976190476190476\n",
      "  (0, 500)\t0.002976190476190476\n",
      "  (0, 503)\t0.002976190476190476\n",
      "  (0, 538)\t0.002976190476190476\n",
      "  (0, 550)\t0.002976190476190476\n",
      "  :\t:\n",
      "  (49351, 490)\t0.002976190476190476\n",
      "  (49351, 503)\t0.002976190476190476\n",
      "  (49351, 539)\t0.002976190476190476\n",
      "  (49351, 555)\t0.002976190476190476\n",
      "  (49351, 574)\t0.002976190476190476\n",
      "  (49351, 582)\t0.005952380952380952\n",
      "  (49351, 616)\t0.005952380952380952\n",
      "  (49351, 634)\t0.002976190476190476\n",
      "  (49351, 635)\t0.002976190476190476\n",
      "  (49351, 650)\t0.002976190476190476\n",
      "  (49351, 659)\t0.002976190476190476\n",
      "  (49351, 665)\t0.002976190476190476\n",
      "  (49351, 702)\t0.002976190476190476\n",
      "  (49351, 704)\t0.002976190476190476\n",
      "  (49351, 716)\t0.002976190476190476\n",
      "  (49351, 735)\t0.005952380952380952\n",
      "  (49351, 793)\t0.005952380952380952\n",
      "  (49351, 874)\t0.002976190476190476\n",
      "  (49351, 877)\t0.005952380952380952\n",
      "  (49351, 883)\t0.005952380952380952\n",
      "  (49351, 893)\t0.002976190476190476\n",
      "  (49351, 909)\t0.005952380952380952\n",
      "  (49351, 920)\t0.002976190476190476\n",
      "  (49351, 942)\t0.002976190476190476\n",
      "  (49351, 957)\t0.002976190476190476\n"
     ]
    }
   ],
   "source": [
    "''' ВАШ КОД ЗДЕСЬ '''\n",
    "\n",
    "X = vectorizer.fit_transform(data.description)\n",
    "\n",
    "\n",
    "def min_max_scale(X, range=(0, 1)):\n",
    "    mi, ma = range\n",
    "    X_std = (X - X.min()) / (X.max() - X.min())\n",
    "    X_scaled = X_std * (ma - mi) + mi\n",
    "    return X_scaled\n",
    "\n",
    "print(min_max_scale(X))\n"
   ]
  },
  {
   "cell_type": "code",
   "execution_count": null,
   "metadata": {},
   "outputs": [],
   "source": []
  }
 ],
 "metadata": {
  "kernelspec": {
   "display_name": "Python 3",
   "language": "python",
   "name": "python3"
  },
  "language_info": {
   "codemirror_mode": {
    "name": "ipython",
    "version": 3
   },
   "file_extension": ".py",
   "mimetype": "text/x-python",
   "name": "python",
   "nbconvert_exporter": "python",
   "pygments_lexer": "ipython3",
   "version": "3.9.4"
  }
 },
 "nbformat": 4,
 "nbformat_minor": 4
}
